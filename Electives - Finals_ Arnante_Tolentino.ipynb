{
 "cells": [
  {
   "cell_type": "markdown",
   "metadata": {},
   "source": [
    "## Facial Recognition of Ben & Ben Band Members"
   ]
  },
  {
   "cell_type": "markdown",
   "metadata": {},
   "source": [
    "### Import Libraries\n"
   ]
  },
  {
   "cell_type": "code",
   "execution_count": 44,
   "metadata": {},
   "outputs": [],
   "source": [
    "import cv2"
   ]
  },
  {
   "cell_type": "markdown",
   "metadata": {},
   "source": [
    "### Choosing a Classifier"
   ]
  },
  {
   "cell_type": "code",
   "execution_count": 45,
   "metadata": {},
   "outputs": [],
   "source": [
    "# uncomment one to use as face classifier\n",
    "\n",
    "classifier = cv2.CascadeClassifier(\"haarcascade_frontalface_default.xml\")\n",
    "#classifier = cv2.CascadeClassifier(\"lbpcascade_frontalface_improved.xml\")"
   ]
  },
  {
   "cell_type": "markdown",
   "metadata": {},
   "source": [
    "### Reading Images"
   ]
  },
  {
   "cell_type": "code",
   "execution_count": 46,
   "metadata": {},
   "outputs": [],
   "source": [
    "img1 = cv2.imread(\"images/ben&ben1.jpeg\")\n",
    "img2 = cv2.imread(\"images/ben&ben2.png\")\n",
    "img3 = cv2.imread(\"images/ben&ben3.jpg\")\n",
    "img4 = cv2.imread(\"images/ben&ben4.jpg\")\n",
    "img5 = cv2.imread(\"images/ben&ben5.png\")"
   ]
  },
  {
   "cell_type": "markdown",
   "metadata": {},
   "source": [
    "### Image Selector"
   ]
  },
  {
   "cell_type": "code",
   "execution_count": 47,
   "metadata": {},
   "outputs": [],
   "source": [
    "# replace img[number] to choose an image\n",
    "\n",
    "img = img1"
   ]
  },
  {
   "cell_type": "code",
   "execution_count": 48,
   "metadata": {},
   "outputs": [
    {
     "name": "stdout",
     "output_type": "stream",
     "text": [
      "[[ 571  127  138  138]\n",
      " [ 301  160  157  157]\n",
      " [ 506  328  149  149]\n",
      " [ 716  406  161  161]\n",
      " [1054  204  164  164]\n",
      " [ 291  343  157  157]\n",
      " [ 914  295  135  135]\n",
      " [ 833  187  131  131]]\n"
     ]
    }
   ],
   "source": [
    "gray_image = cv2.cvtColor(img, cv2.COLOR_BGR2GRAY) # convert image to grayscale\n",
    "\n",
    "faces = classifier.detectMultiScale(gray_image,1.3,5) # detect faces in the grayscale image\n",
    "\n",
    "print(faces) # printing face location (x,y,w,h)\n",
    "\n",
    "for (x,y,w,h) in faces:\n",
    "  cv2.rectangle(img, (x,y), (x+w, y+h),(33,220,250),3) # highlighting faces in an image using rectangle\n",
    "\n",
    "cv2.imshow(\"Sample Image\",img) # gui window to display the image\n",
    "cv2.waitKey(0) # to hold the window on screen\n",
    "cv2.destroyAllWindows() # for removing the image from screen including the memory"
   ]
  }
 ],
 "metadata": {
  "kernelspec": {
   "display_name": "Python 3",
   "language": "python",
   "name": "python3"
  },
  "language_info": {
   "codemirror_mode": {
    "name": "ipython",
    "version": 3
   },
   "file_extension": ".py",
   "mimetype": "text/x-python",
   "name": "python",
   "nbconvert_exporter": "python",
   "pygments_lexer": "ipython3",
   "version": "3.13.0"
  }
 },
 "nbformat": 4,
 "nbformat_minor": 2
}
